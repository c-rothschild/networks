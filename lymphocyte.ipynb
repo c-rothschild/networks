{
 "cells": [
  {
   "cell_type": "code",
   "execution_count": 1,
   "metadata": {
    "id": "4r-3Vn3_TYyG"
   },
   "outputs": [],
   "source": [
    "class BooleanNetwork:\n",
    "\n",
    "    def __init__(self):\n",
    "        self.state = {}\n",
    "        while True:\n",
    "            try:\n",
    "                self.update()\n",
    "            except KeyError as e:\n",
    "                missing_key = e.args[0]\n",
    "                self.state[missing_key] = False\n",
    "            else:\n",
    "                break\n",
    "\n",
    "    def update(self):\n",
    "        new_state = self.state.copy()\n",
    "        s = self.state  # Shortcut for readability\n",
    "\n",
    "        new_state[\"CTLA4\"] = s[\"TCR\"] and not s[\"Apoptosis\"]\n",
    "        new_state[\"TCR\"] = s[\"Stimuli\"] and not (s[\"CTLA4\"] or s[\"Apoptosis\"])\n",
    "        new_state[\"PDGFR\"] = (s[\"S1P\"] or s[\"PDGF\"]) and not s[\"Apoptosis\"]\n",
    "        new_state[\"FYN\"] = (s[\"TCR\"] or s[\"IL2RB\"]) and not s[\"Apoptosis\"]\n",
    "        new_state[\"Cytoskeleton_signaling\"] = s[\"FYN\"] and not s[\"Apoptosis\"]\n",
    "        new_state[\"LCK\"] = (s[\"CD45\"] or ((s[\"TCR\"] or s[\"IL2RB\"]) and not s[\"ZAP70\"])) and not s[\"Apoptosis\"]\n",
    "        new_state[\"ZAP70\"] = s[\"LCK\"] and not (s[\"FYN\"] or s[\"Apoptosis\"])\n",
    "        new_state[\"GRB2\"] = (s[\"IL2RB\"] or s[\"ZAP70\"]) and not s[\"Apoptosis\"]\n",
    "        new_state[\"PLCG1\"] = (s[\"GRB2\"] or s[\"PDGFR\"]) and not s[\"Apoptosis\"]\n",
    "        new_state[\"RAS\"] = (s[\"GRB2\"] or s[\"PLCG1\"]) and not (s[\"GAP\"] or s[\"Apoptosis\"])\n",
    "        new_state[\"GAP\"] = (s[\"RAS\"] or (s[\"PDGFR\"] and s[\"GAP\"])) and not (s[\"IL15\"] or s[\"IL2\"] or s[\"Apoptosis\"])\n",
    "        new_state[\"MEK\"] = s[\"RAS\"] and not s[\"Apoptosis\"]\n",
    "        new_state[\"ERK\"] = (s[\"MEK\"] and s[\"PI3K\"]) and not s[\"Apoptosis\"]\n",
    "        new_state[\"PI3K\"] = (s[\"PDGFR\"] or s[\"RAS\"]) and not s[\"Apoptosis\"]\n",
    "        new_state[\"NFKB\"] = ((s[\"TPL2\"] or s[\"PI3K\"]) or (s[\"FLIP\"] and s[\"TRADD\"] and s[\"IAP\"])) and not s[\"Apoptosis\"]\n",
    "        new_state[\"NFAT\"] = s[\"PI3K\"] and not s[\"Apoptosis\"]\n",
    "        new_state[\"RANTES\"] = s[\"NFKB\"] and not s[\"Apoptosis\"]\n",
    "        new_state[\"IL2\"] = (s[\"NFKB\"] or s[\"STAT3\"] or s[\"NFAT\"]) and not (s[\"TBET\"] or s[\"Apoptosis\"])\n",
    "        new_state[\"IL2RBT\"] = (s[\"ERK\"] and s[\"TBET\"]) and not s[\"Apoptosis\"]\n",
    "        new_state[\"IL2RB\"] = (s[\"IL2RBT\"] and (s[\"IL2\"] or s[\"IL15\"])) and not s[\"Apoptosis\"]\n",
    "        new_state[\"IL2RAT\"] = (s[\"IL2\"] and (s[\"STAT3\"] or s[\"NFKB\"])) and not s[\"Apoptosis\"]\n",
    "        new_state[\"IL2RA\"] = (s[\"IL2\"] and s[\"IL2RAT\"]) and not (s[\"IL2RA\"] or s[\"Apoptosis\"])\n",
    "        new_state[\"JAK\"] = (s[\"IL2RA\"] or s[\"IL2RB\"] or s[\"RANTES\"] or s[\"IFNG\"]) and not (s[\"SOCS\"] or s[\"CD45\"] or s[\"Apoptosis\"])\n",
    "        new_state[\"SOCS\"] = s[\"JAK\"] and not (s[\"Apoptosis\"] or s[\"IL2\"] or s[\"IL15\"])\n",
    "        new_state[\"STAT3\"] = s[\"JAK\"] and not s[\"Apoptosis\"]\n",
    "        new_state[\"P27\"] = s[\"STAT3\"] and not s[\"Apoptosis\"]\n",
    "        new_state[\"Proliferation\"] = s[\"STAT3\"] and not (s[\"P27\"] or s[\"Apoptosis\"])\n",
    "        new_state[\"TBET\"] = (s[\"JAK\"] or s[\"TBET\"]) and not s[\"Apoptosis\"]\n",
    "        new_state[\"CREB\"] = (s[\"ERK\"] and s[\"IFN\"]) and not s[\"Apoptosis\"]\n",
    "        new_state[\"IFNGT\"] = (s[\"TBET\"] or s[\"STAT3\"] or s[\"NFAT\"]) and not s[\"Apoptosis\"]\n",
    "        new_state[\"IFNG\"] = ((s[\"IL2\"] or s[\"IL15\"] or s[\"Stimuli\"]) and s[\"IFNGT\"]) and not (s[\"Apoptosis\"] or s[\"SMAD\"] or s[\"P2\"])\n",
    "        new_state[\"P2\"] = (s[\"IFNG\"] or s[\"P2\"]) and not (s[\"Stimuli2\"] or s[\"Apoptosis\"])\n",
    "        new_state[\"GZMB\"] = ((s[\"CREB\"] and s[\"IFNG\"]) or s[\"TBET\"]) and not s[\"Apoptosis\"]\n",
    "\n",
    "        new_state[\"TPL2\"] = (s[\"TAX\"] or (s[\"PI3K\"] and s[\"TNF\"])) and not s[\"Apoptosis\"]\n",
    "        new_state[\"TNF\"] = s[\"NFKB\"] and not s[\"Apoptosis\"]\n",
    "        new_state[\"TRADD\"] = s[\"TNF\"] and not (s[\"IAP\"] or s[\"A20\"] or s[\"Apoptosis\"])\n",
    "        new_state[\"FasL\"] = (s[\"STAT3\"] or s[\"NFKB\"] or s[\"NFAT\"] or s[\"ERK\"]) and not s[\"Apoptosis\"]\n",
    "        new_state[\"FasT\"] = s[\"NFKB\"] and not s[\"Apoptosis\"]\n",
    "        new_state[\"Fas\"] = (s[\"FasT\"] and s[\"FasL\"]) and not (s[\"sFas\"] or s[\"Apoptosis\"])\n",
    "        new_state[\"sFas\"] = s[\"FasT\"] and not s[\"Apoptosis\"]\n",
    "        new_state[\"Ceramide\"] = s[\"Fas\"] and not (s[\"S1P\"] or s[\"Apoptosis\"])\n",
    "        new_state[\"DISC\"] = (s[\"FasT\"] and ((s[\"Fas\"] and s[\"IL2\"]) or s[\"Ceramide\"] or (s[\"Fas\"] and not s[\"FLIP\"]))) and not s[\"Apoptosis\"]\n",
    "\n",
    "        new_state[\"Caspase\"] = (((s[\"TRADD\"] or s[\"GZMB\"]) and s[\"BID\"] and not s[\"IAP\"]) or s[\"DISC\"]) and not s[\"Apoptosis\"]\n",
    "        new_state[\"Apoptosis\"] = s[\"Caspase\"] or s[\"Apoptosis\"]\n",
    "\n",
    "        new_state[\"FLIP\"] = (s[\"NFKB\"] or (s[\"CREB\"] and s[\"IFNG\"])) and not (s[\"DISC\"] or s[\"Apoptosis\"])\n",
    "        new_state[\"A20\"] = s[\"NFKB\"] and not s[\"Apoptosis\"]\n",
    "        new_state[\"BID\"] = (s[\"Caspase\"] or s[\"GZMB\"]) and not (s[\"BclxL\"] or s[\"MCL1\"] or s[\"Apoptosis\"])\n",
    "        new_state[\"IAP\"] = s[\"NFKB\"] and not (s[\"BID\"] or s[\"Apoptosis\"])\n",
    "        new_state[\"BclxL\"] = (s[\"NFKB\"] or s[\"STAT3\"]) and not (s[\"BID\"] or s[\"GZMB\"] or s[\"DISC\"] or s[\"Apoptosis\"])\n",
    "        new_state[\"MCL1\"] = (s[\"IL2RB\"] and s[\"STAT3\"] and s[\"NFKB\"] and s[\"PI3K\"]) and not s[\"Apoptosis\"]\n",
    "\n",
    "        new_state[\"GPCR\"] = s[\"S1P\"] and not s[\"Apoptosis\"]\n",
    "        new_state[\"SMAD\"] = s[\"GPCR\"] and not s[\"Apoptosis\"]\n",
    "        new_state[\"SPHK1\"] = s[\"PDGFR\"] and not s[\"Apoptosis\"]\n",
    "        new_state[\"S1P\"] = s[\"SPHK1\"] and not (s[\"Ceramide\"] or s[\"Apoptosis\"])\n",
    "\n",
    "    \n",
    "\n",
    "        self.state = new_state\n",
    "\n",
    "    def run(self, steps):\n",
    "        for _ in range(steps):\n",
    "            self.update()\n",
    "            print(self.state)\n"
   ]
  },
  {
   "cell_type": "code",
   "execution_count": 2,
   "metadata": {
    "colab": {
     "base_uri": "https://localhost:8080/"
    },
    "id": "dn0ernpWTmrk",
    "outputId": "1084078c-c419-4a92-8079-bfbf1b91102d"
   },
   "outputs": [
    {
     "name": "stdout",
     "output_type": "stream",
     "text": [
      "{'TCR': True, 'Stimuli': True, 'S1P': False, 'PDGF': False, 'IL2RB': False, 'FYN': False, 'CD45': False, 'LCK': False, 'ZAP70': False, 'GRB2': False, 'PDGFR': False, 'PLCG1': False, 'RAS': False, 'MEK': False, 'TPL2': False, 'PI3K': False, 'FLIP': False, 'NFKB': False, 'STAT3': False, 'NFAT': False, 'ERK': False, 'IL2RBT': False, 'IL2': False, 'IL2RA': False, 'RANTES': False, 'IFNG': False, 'JAK': False, 'TBET': False, 'IL15': False, 'P2': False, 'CREB': False, 'TAX': False, 'TNF': False, 'FasT': False, 'Fas': False, 'TRADD': False, 'GZMB': False, 'DISC': False, 'Caspase': False, 'Apoptosis': False, 'GPCR': False, 'SPHK1': False, 'CTLA4': False, 'Cytoskeleton_signaling': False, 'GAP': False, 'IL2RAT': False, 'SOCS': False, 'P27': False, 'Proliferation': False, 'IFNGT': False, 'FasL': False, 'sFas': False, 'Ceramide': False, 'A20': False, 'BID': False, 'IAP': False, 'BclxL': False, 'MCL1': False, 'SMAD': False}\n",
      "{'TCR': True, 'Stimuli': True, 'S1P': False, 'PDGF': False, 'IL2RB': False, 'FYN': True, 'CD45': False, 'LCK': True, 'ZAP70': False, 'GRB2': False, 'PDGFR': False, 'PLCG1': False, 'RAS': False, 'MEK': False, 'TPL2': False, 'PI3K': False, 'FLIP': False, 'NFKB': False, 'STAT3': False, 'NFAT': False, 'ERK': False, 'IL2RBT': False, 'IL2': False, 'IL2RA': False, 'RANTES': False, 'IFNG': False, 'JAK': False, 'TBET': False, 'IL15': False, 'P2': False, 'CREB': False, 'TAX': False, 'TNF': False, 'FasT': False, 'Fas': False, 'TRADD': False, 'GZMB': False, 'DISC': False, 'Caspase': False, 'Apoptosis': False, 'GPCR': False, 'SPHK1': False, 'CTLA4': True, 'Cytoskeleton_signaling': False, 'GAP': False, 'IL2RAT': False, 'SOCS': False, 'P27': False, 'Proliferation': False, 'IFNGT': False, 'FasL': False, 'sFas': False, 'Ceramide': False, 'A20': False, 'BID': False, 'IAP': False, 'BclxL': False, 'MCL1': False, 'SMAD': False}\n",
      "{'TCR': False, 'Stimuli': True, 'S1P': False, 'PDGF': False, 'IL2RB': False, 'FYN': True, 'CD45': False, 'LCK': True, 'ZAP70': False, 'GRB2': False, 'PDGFR': False, 'PLCG1': False, 'RAS': False, 'MEK': False, 'TPL2': False, 'PI3K': False, 'FLIP': False, 'NFKB': False, 'STAT3': False, 'NFAT': False, 'ERK': False, 'IL2RBT': False, 'IL2': False, 'IL2RA': False, 'RANTES': False, 'IFNG': False, 'JAK': False, 'TBET': False, 'IL15': False, 'P2': False, 'CREB': False, 'TAX': False, 'TNF': False, 'FasT': False, 'Fas': False, 'TRADD': False, 'GZMB': False, 'DISC': False, 'Caspase': False, 'Apoptosis': False, 'GPCR': False, 'SPHK1': False, 'CTLA4': True, 'Cytoskeleton_signaling': True, 'GAP': False, 'IL2RAT': False, 'SOCS': False, 'P27': False, 'Proliferation': False, 'IFNGT': False, 'FasL': False, 'sFas': False, 'Ceramide': False, 'A20': False, 'BID': False, 'IAP': False, 'BclxL': False, 'MCL1': False, 'SMAD': False}\n",
      "{'TCR': False, 'Stimuli': True, 'S1P': False, 'PDGF': False, 'IL2RB': False, 'FYN': False, 'CD45': False, 'LCK': False, 'ZAP70': False, 'GRB2': False, 'PDGFR': False, 'PLCG1': False, 'RAS': False, 'MEK': False, 'TPL2': False, 'PI3K': False, 'FLIP': False, 'NFKB': False, 'STAT3': False, 'NFAT': False, 'ERK': False, 'IL2RBT': False, 'IL2': False, 'IL2RA': False, 'RANTES': False, 'IFNG': False, 'JAK': False, 'TBET': False, 'IL15': False, 'P2': False, 'CREB': False, 'TAX': False, 'TNF': False, 'FasT': False, 'Fas': False, 'TRADD': False, 'GZMB': False, 'DISC': False, 'Caspase': False, 'Apoptosis': False, 'GPCR': False, 'SPHK1': False, 'CTLA4': False, 'Cytoskeleton_signaling': True, 'GAP': False, 'IL2RAT': False, 'SOCS': False, 'P27': False, 'Proliferation': False, 'IFNGT': False, 'FasL': False, 'sFas': False, 'Ceramide': False, 'A20': False, 'BID': False, 'IAP': False, 'BclxL': False, 'MCL1': False, 'SMAD': False}\n",
      "{'TCR': True, 'Stimuli': True, 'S1P': False, 'PDGF': False, 'IL2RB': False, 'FYN': False, 'CD45': False, 'LCK': False, 'ZAP70': False, 'GRB2': False, 'PDGFR': False, 'PLCG1': False, 'RAS': False, 'MEK': False, 'TPL2': False, 'PI3K': False, 'FLIP': False, 'NFKB': False, 'STAT3': False, 'NFAT': False, 'ERK': False, 'IL2RBT': False, 'IL2': False, 'IL2RA': False, 'RANTES': False, 'IFNG': False, 'JAK': False, 'TBET': False, 'IL15': False, 'P2': False, 'CREB': False, 'TAX': False, 'TNF': False, 'FasT': False, 'Fas': False, 'TRADD': False, 'GZMB': False, 'DISC': False, 'Caspase': False, 'Apoptosis': False, 'GPCR': False, 'SPHK1': False, 'CTLA4': False, 'Cytoskeleton_signaling': False, 'GAP': False, 'IL2RAT': False, 'SOCS': False, 'P27': False, 'Proliferation': False, 'IFNGT': False, 'FasL': False, 'sFas': False, 'Ceramide': False, 'A20': False, 'BID': False, 'IAP': False, 'BclxL': False, 'MCL1': False, 'SMAD': False}\n",
      "{'TCR': True, 'Stimuli': True, 'S1P': False, 'PDGF': False, 'IL2RB': False, 'FYN': True, 'CD45': False, 'LCK': True, 'ZAP70': False, 'GRB2': False, 'PDGFR': False, 'PLCG1': False, 'RAS': False, 'MEK': False, 'TPL2': False, 'PI3K': False, 'FLIP': False, 'NFKB': False, 'STAT3': False, 'NFAT': False, 'ERK': False, 'IL2RBT': False, 'IL2': False, 'IL2RA': False, 'RANTES': False, 'IFNG': False, 'JAK': False, 'TBET': False, 'IL15': False, 'P2': False, 'CREB': False, 'TAX': False, 'TNF': False, 'FasT': False, 'Fas': False, 'TRADD': False, 'GZMB': False, 'DISC': False, 'Caspase': False, 'Apoptosis': False, 'GPCR': False, 'SPHK1': False, 'CTLA4': True, 'Cytoskeleton_signaling': False, 'GAP': False, 'IL2RAT': False, 'SOCS': False, 'P27': False, 'Proliferation': False, 'IFNGT': False, 'FasL': False, 'sFas': False, 'Ceramide': False, 'A20': False, 'BID': False, 'IAP': False, 'BclxL': False, 'MCL1': False, 'SMAD': False}\n",
      "{'TCR': False, 'Stimuli': True, 'S1P': False, 'PDGF': False, 'IL2RB': False, 'FYN': True, 'CD45': False, 'LCK': True, 'ZAP70': False, 'GRB2': False, 'PDGFR': False, 'PLCG1': False, 'RAS': False, 'MEK': False, 'TPL2': False, 'PI3K': False, 'FLIP': False, 'NFKB': False, 'STAT3': False, 'NFAT': False, 'ERK': False, 'IL2RBT': False, 'IL2': False, 'IL2RA': False, 'RANTES': False, 'IFNG': False, 'JAK': False, 'TBET': False, 'IL15': False, 'P2': False, 'CREB': False, 'TAX': False, 'TNF': False, 'FasT': False, 'Fas': False, 'TRADD': False, 'GZMB': False, 'DISC': False, 'Caspase': False, 'Apoptosis': False, 'GPCR': False, 'SPHK1': False, 'CTLA4': True, 'Cytoskeleton_signaling': True, 'GAP': False, 'IL2RAT': False, 'SOCS': False, 'P27': False, 'Proliferation': False, 'IFNGT': False, 'FasL': False, 'sFas': False, 'Ceramide': False, 'A20': False, 'BID': False, 'IAP': False, 'BclxL': False, 'MCL1': False, 'SMAD': False}\n",
      "{'TCR': False, 'Stimuli': True, 'S1P': False, 'PDGF': False, 'IL2RB': False, 'FYN': False, 'CD45': False, 'LCK': False, 'ZAP70': False, 'GRB2': False, 'PDGFR': False, 'PLCG1': False, 'RAS': False, 'MEK': False, 'TPL2': False, 'PI3K': False, 'FLIP': False, 'NFKB': False, 'STAT3': False, 'NFAT': False, 'ERK': False, 'IL2RBT': False, 'IL2': False, 'IL2RA': False, 'RANTES': False, 'IFNG': False, 'JAK': False, 'TBET': False, 'IL15': False, 'P2': False, 'CREB': False, 'TAX': False, 'TNF': False, 'FasT': False, 'Fas': False, 'TRADD': False, 'GZMB': False, 'DISC': False, 'Caspase': False, 'Apoptosis': False, 'GPCR': False, 'SPHK1': False, 'CTLA4': False, 'Cytoskeleton_signaling': True, 'GAP': False, 'IL2RAT': False, 'SOCS': False, 'P27': False, 'Proliferation': False, 'IFNGT': False, 'FasL': False, 'sFas': False, 'Ceramide': False, 'A20': False, 'BID': False, 'IAP': False, 'BclxL': False, 'MCL1': False, 'SMAD': False}\n",
      "{'TCR': True, 'Stimuli': True, 'S1P': False, 'PDGF': False, 'IL2RB': False, 'FYN': False, 'CD45': False, 'LCK': False, 'ZAP70': False, 'GRB2': False, 'PDGFR': False, 'PLCG1': False, 'RAS': False, 'MEK': False, 'TPL2': False, 'PI3K': False, 'FLIP': False, 'NFKB': False, 'STAT3': False, 'NFAT': False, 'ERK': False, 'IL2RBT': False, 'IL2': False, 'IL2RA': False, 'RANTES': False, 'IFNG': False, 'JAK': False, 'TBET': False, 'IL15': False, 'P2': False, 'CREB': False, 'TAX': False, 'TNF': False, 'FasT': False, 'Fas': False, 'TRADD': False, 'GZMB': False, 'DISC': False, 'Caspase': False, 'Apoptosis': False, 'GPCR': False, 'SPHK1': False, 'CTLA4': False, 'Cytoskeleton_signaling': False, 'GAP': False, 'IL2RAT': False, 'SOCS': False, 'P27': False, 'Proliferation': False, 'IFNGT': False, 'FasL': False, 'sFas': False, 'Ceramide': False, 'A20': False, 'BID': False, 'IAP': False, 'BclxL': False, 'MCL1': False, 'SMAD': False}\n",
      "{'TCR': True, 'Stimuli': True, 'S1P': False, 'PDGF': False, 'IL2RB': False, 'FYN': True, 'CD45': False, 'LCK': True, 'ZAP70': False, 'GRB2': False, 'PDGFR': False, 'PLCG1': False, 'RAS': False, 'MEK': False, 'TPL2': False, 'PI3K': False, 'FLIP': False, 'NFKB': False, 'STAT3': False, 'NFAT': False, 'ERK': False, 'IL2RBT': False, 'IL2': False, 'IL2RA': False, 'RANTES': False, 'IFNG': False, 'JAK': False, 'TBET': False, 'IL15': False, 'P2': False, 'CREB': False, 'TAX': False, 'TNF': False, 'FasT': False, 'Fas': False, 'TRADD': False, 'GZMB': False, 'DISC': False, 'Caspase': False, 'Apoptosis': False, 'GPCR': False, 'SPHK1': False, 'CTLA4': True, 'Cytoskeleton_signaling': False, 'GAP': False, 'IL2RAT': False, 'SOCS': False, 'P27': False, 'Proliferation': False, 'IFNGT': False, 'FasL': False, 'sFas': False, 'Ceramide': False, 'A20': False, 'BID': False, 'IAP': False, 'BclxL': False, 'MCL1': False, 'SMAD': False}\n"
     ]
    }
   ],
   "source": [
    "# Example initialization and execution\n",
    "network = BooleanNetwork()\n",
    "network.state[\"Stimuli\"] = True\n",
    "network.run(10)\n"
   ]
  }
 ],
 "metadata": {
  "colab": {
   "provenance": []
  },
  "kernelspec": {
   "display_name": ".venv",
   "language": "python",
   "name": "python3"
  },
  "language_info": {
   "codemirror_mode": {
    "name": "ipython",
    "version": 3
   },
   "file_extension": ".py",
   "mimetype": "text/x-python",
   "name": "python",
   "nbconvert_exporter": "python",
   "pygments_lexer": "ipython3",
   "version": "3.13.5"
  }
 },
 "nbformat": 4,
 "nbformat_minor": 1
}
